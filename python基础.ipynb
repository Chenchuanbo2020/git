{
 "cells": [
  {
   "cell_type": "markdown",
   "metadata": {},
   "source": [
    "# 1. python基础\n",
    "\n",
    "* 面向初学者，由浅入深，学完后能立刻上手,不必担心起步难度.\n",
    "* 实用性超强，边学边练，一点也不觉得枯燥。\n",
    "* “充分且必要”原则，只做python用户，不必成为专家。很多命令一辈子都不会用到，完全没必要把时间浪费在那些“高级”但几乎永远不会用到的命令上。"
   ]
  },
  {
   "cell_type": "markdown",
   "metadata": {},
   "source": [
    "## 1.1 Objects\n",
    "* python是面向对象的程序语言，python中的一切都可成为对象（Everything in Python is an object.）\n",
    "* 对象包含**数据（data）**和可作用于数据的**函数（functions）**，对象中的函数又称为方法（methods）.\n",
    "* 不同的数据适用于不同的函数，看似同一种函数（方法或操作）作用于不同的数据，可能得到完全不同的结果"
   ]
  },
  {
   "cell_type": "code",
   "execution_count": 46,
   "metadata": {},
   "outputs": [
    {
     "name": "stdout",
     "output_type": "stream",
     "text": [
      "字符，布尔，复数，整型，浮点型\n"
     ]
    },
    {
     "data": {
      "text/plain": [
       "(str, bool, complex, int, float)"
      ]
     },
     "execution_count": 46,
     "metadata": {},
     "output_type": "execute_result"
    }
   ],
   "source": [
    "#数据类型（Data Types）：可分为三大类，布尔型、数值型和字符型，其中数据值型又可分为实数和复数，实数又分为整型（整数）和浮点型（带小数点）\n",
    "#一般用引号来表示字符\n",
    "#布尔型只有两种，即True, False\n",
    "\n",
    "print(\"字符，布尔，复数，整型，浮点型\")\n",
    "type('1'),type(True),type(1+2j),type(1),type(1.0)"
   ]
  },
  {
   "cell_type": "code",
   "execution_count": 47,
   "metadata": {},
   "outputs": [
    {
     "ename": "TypeError",
     "evalue": "can only concatenate str (not \"int\") to str",
     "output_type": "error",
     "traceback": [
      "\u001b[1;31m---------------------------------------------------------------------------\u001b[0m",
      "\u001b[1;31mTypeError\u001b[0m                                 Traceback (most recent call last)",
      "\u001b[1;32m<ipython-input-47-1c4fa3c7563a>\u001b[0m in \u001b[0;36m<module>\u001b[1;34m\u001b[0m\n\u001b[0;32m      1\u001b[0m \u001b[1;31m#不同数据类型一般不能直接运算，例如字符型和数值型不能相加\u001b[0m\u001b[1;33m\u001b[0m\u001b[1;33m\u001b[0m\u001b[1;33m\u001b[0m\u001b[0m\n\u001b[1;32m----> 2\u001b[1;33m \u001b[1;34m\"1\"\u001b[0m\u001b[1;33m+\u001b[0m\u001b[1;36m1\u001b[0m\u001b[1;33m\u001b[0m\u001b[1;33m\u001b[0m\u001b[0m\n\u001b[0m",
      "\u001b[1;31mTypeError\u001b[0m: can only concatenate str (not \"int\") to str"
     ]
    }
   ],
   "source": [
    "#不同数据类型一般不能直接运算，例如字符型和数值型不能相加\n",
    "\"1\"+1"
   ]
  },
  {
   "cell_type": "code",
   "execution_count": 48,
   "metadata": {},
   "outputs": [
    {
     "data": {
      "text/plain": [
       "(1, '1', 1.0, 1.0, 2.0)"
      ]
     },
     "execution_count": 48,
     "metadata": {},
     "output_type": "execute_result"
    }
   ],
   "source": [
    "#某些不同数据类型之间可相互转换\n",
    "\n",
    "int(\"1\"),str(1),float(1),(1+2j).real,(1+2j).imag"
   ]
  },
  {
   "cell_type": "code",
   "execution_count": 49,
   "metadata": {},
   "outputs": [
    {
     "data": {
      "text/plain": [
       "('11', 2)"
      ]
     },
     "execution_count": 49,
     "metadata": {},
     "output_type": "execute_result"
    }
   ],
   "source": [
    "#同样是加法运算操作，字符相加和数值相加结果完全不同\n",
    "\"1\"+str(1),int(\"1\")+1"
   ]
  },
  {
   "cell_type": "code",
   "execution_count": null,
   "metadata": {},
   "outputs": [],
   "source": [
    "#布尔（逻辑）运算:基本运算有三种，其优先序是not>and>or\n",
    "\n",
    "print(\"非运算，或运算，和运算\")\n",
    "not True,True or False,True and False"
   ]
  },
  {
   "cell_type": "code",
   "execution_count": null,
   "metadata": {},
   "outputs": [],
   "source": [
    "#数值运算\n",
    "\n",
    "x,y=3,2\n",
    "print(\"加，减，乘，除，幂，商，余\")\n",
    "x+y,x-y,x*y,x/y,x**y,37//7,37%7"
   ]
  },
  {
   "cell_type": "code",
   "execution_count": 5,
   "metadata": {},
   "outputs": [
    {
     "data": {
      "text/plain": [
       "(2.0, 3.141592653589793, 1.2246467991473532e-16, -1.0, 2.718281828459045, 0.0)"
      ]
     },
     "execution_count": 5,
     "metadata": {},
     "output_type": "execute_result"
    }
   ],
   "source": [
    "#初等函数运算需要加载math包\n",
    "import math   #加载整个math包，调用时需要先加上math.,如math.sqrt()用于计算平方根\n",
    "from math import pi,sin,cos,exp,log   #从math包中调用特定的函数，此时可以不加math\n",
    "math.sqrt(4),math.pi,math.sin(math.pi),sin(pi),cos(pi),exp(1),log(1)"
   ]
  },
  {
   "cell_type": "code",
   "execution_count": 50,
   "metadata": {},
   "outputs": [
    {
     "data": {
      "text/plain": [
       "('hello SARD of RUC',\n",
       " 'hello SARDhello SARD',\n",
       " 'hell',\n",
       " ['hello', 'SARD'],\n",
       " 'HELLO SARD',\n",
       " [' ', 'o', 'f', ' ', 'R', 'U', 'C'],\n",
       " 2,\n",
       " True,\n",
       " False,\n",
       " 10)"
      ]
     },
     "execution_count": 50,
     "metadata": {},
     "output_type": "execute_result"
    }
   ],
   "source": [
    "#字符函数: 其中list(y)将字符串打散成单个字母组成的一个list,x.ount('l')统计x中l出现的次数\n",
    "\n",
    "x,y=\"hello SARD\",\" of RUC\"\n",
    "#字符相加，重复，截取，分割，打散，大写，计数，判断是否含有特定字符，字符长度\n",
    "x+y,2*x,x[:4],x.split(),list(y),x.upper(),x.count('l'),'S' in x,'S' in y,len(x)"
   ]
  },
  {
   "cell_type": "code",
   "execution_count": 55,
   "metadata": {},
   "outputs": [
    {
     "data": {
      "text/plain": [
       "('   CCB   ', 'CCB')"
      ]
     },
     "execution_count": 55,
     "metadata": {},
     "output_type": "execute_result"
    }
   ],
   "source": [
    "x=\"   CCB   \"\n",
    "x,   x.strip()   #如果记不住函数名，可输入“x.”再点击TAB健，可以调出该对象适用的所有函数，再从中选择，这里的x.strip()功能是去除空格"
   ]
  },
  {
   "cell_type": "code",
   "execution_count": null,
   "metadata": {},
   "outputs": [],
   "source": []
  },
  {
   "cell_type": "markdown",
   "metadata": {},
   "source": [
    "## 1.2 Collections\n",
    "* 将元素（通常为数据）收集在一起即构成collections，包括集合{set}，列表[list],元组（truple)和字典\n",
    "* 集合{set}中的元素没有先后次序，并且不允许出现重复\n",
    "* 列表和元组可视为一种有序集合（Ordered Collections），其中的元素有先后次序，可以重复。列表可以更改、添加和删除，但元组一旦设定，不能更改。\n",
    "* 字典可视为一种关联集合 （Associative Collections），它将键名（keys)键值(values)组合成对\n",
    "* 集合亦可以再组成集合family of sets"
   ]
  },
  {
   "cell_type": "code",
   "execution_count": 57,
   "metadata": {},
   "outputs": [
    {
     "name": "stdout",
     "output_type": "stream",
     "text": [
      "元组，列表，集合，字典\n"
     ]
    },
    {
     "data": {
      "text/plain": [
       "(tuple, list, set, dict)"
      ]
     },
     "execution_count": 57,
     "metadata": {},
     "output_type": "execute_result"
    }
   ],
   "source": [
    "#collection\n",
    "print(\"元组，列表，集合，字典\")\n",
    "type((1,2,'A')),type([1,2,'b']),type({1,2,'c'}),type({'A':1,'B':2})"
   ]
  },
  {
   "cell_type": "code",
   "execution_count": 17,
   "metadata": {},
   "outputs": [
    {
     "data": {
      "text/plain": [
       "((1, 1, 1, 2, 3, 'CCB'),\n",
       " [1, 1, 1, 2, 3, 'CCB'],\n",
       " {1, 2, 3, 'CCB'},\n",
       " {1, 2, 3, 'CCB'},\n",
       " [1, 2, 3, 'CCB'],\n",
       " (1, 2, 3, 'CCB'))"
      ]
     },
     "execution_count": 17,
     "metadata": {},
     "output_type": "execute_result"
    }
   ],
   "source": [
    "#元组，列表和集合之间可相互换化\n",
    "A=(1,1,1,2,3,\"CCB\")\n",
    "B=list(A)  #元组变列表\n",
    "C=set(B)   #列表变成集合，集合元素唯一\n",
    "D=set(A)\n",
    "E=list(C)\n",
    "F=tuple(E)\n",
    "A,B,C,D,E,F"
   ]
  },
  {
   "cell_type": "code",
   "execution_count": 18,
   "metadata": {},
   "outputs": [
    {
     "data": {
      "text/plain": [
       "[(2015, 11.06, 1.371), (2014, 10.48, 1.364), (2013, 9.607, 1.357)]"
      ]
     },
     "execution_count": 18,
     "metadata": {},
     "output_type": "execute_result"
    }
   ],
   "source": [
    "#元组不可更改，因此一般使用list，若不希望改变元素的顺序、取值或者字典取值时使用元组\n",
    "[(2015, 11.06, 1.371), (2014, 10.48, 1.364), (2013, 9.607, 1.357)]"
   ]
  },
  {
   "cell_type": "code",
   "execution_count": 21,
   "metadata": {},
   "outputs": [
    {
     "name": "stdout",
     "output_type": "stream",
     "text": [
      "2015\n",
      "['country', 'year', 'GDP', 'population', 'irrigated_land', 'top_religions']\n"
     ]
    },
    {
     "data": {
      "text/plain": [
       "['China',\n",
       " 2015,\n",
       " 12,\n",
       " 1.371,\n",
       " 690070,\n",
       " {'buddhist': 18.2, 'christian': 5.1, 'muslim': 1.8}]"
      ]
     },
     "execution_count": 21,
     "metadata": {},
     "output_type": "execute_result"
    }
   ],
   "source": [
    "#字典，由keys:values对组成\n",
    "china = {\n",
    "    \"country\": \"China\",\n",
    "    \"year\": 2015,\n",
    "    \"GDP\" : 11.06,\n",
    "    \"population\": 1.371\n",
    "}\n",
    "print(china['year'])   #通过keys调用其值\n",
    "china['GDP']=12      #修改values\n",
    "china.update({\"irrigated_land\": 690_070, \"top_religions\": {\"buddhist\": 18.2, \"christian\" : 5.1, \"muslim\": 1.8}})  #更新\n",
    "print(list(china.keys()))  \n",
    "list(china.values())"
   ]
  },
  {
   "cell_type": "code",
   "execution_count": 29,
   "metadata": {},
   "outputs": [
    {
     "data": {
      "text/plain": [
       "'CCB is 40 years old'"
      ]
     },
     "execution_count": 29,
     "metadata": {},
     "output_type": "execute_result"
    }
   ],
   "source": [
    "\"{name} is {age} years old\".format(name=\"CCB\",age=40)"
   ]
  },
  {
   "cell_type": "code",
   "execution_count": 31,
   "metadata": {},
   "outputs": [
    {
     "name": "stdout",
     "output_type": "stream",
     "text": [
      "[10, 25, 42, 8, [20, 4]]\n",
      "[10, 25, 42, 8, [20, 4]]\n"
     ]
    }
   ],
   "source": [
    "# append和extend的区别\n",
    "a = [10, 25, 42, 8]\n",
    "a.append([20, 4])\n",
    "print(a)\n",
    "b= [10, 25, 42, 8]\n",
    "b.extend([20, 4])\n",
    "print(a)\n",
    "#x.remove()注意仅删除第一个‘l’\n",
    "x=[1,'c','e','y']\n",
    "x,x.index('c'),x.pop()  #搜索字符‘y’在a中的位置  \n",
    "a=[1,2,3,4]\n",
    "del a[1]   #删除位置1处的字符\n",
    "a"
   ]
  },
  {
   "cell_type": "code",
   "execution_count": null,
   "metadata": {},
   "outputs": [],
   "source": [
    "#集合运算\n",
    "A={1,2,3,4,5}\n",
    "B={3,5,7,8,9,0}\n",
    "A & B,A | B,A - B   #交集、并集、差集"
   ]
  },
  {
   "cell_type": "code",
   "execution_count": 79,
   "metadata": {},
   "outputs": [],
   "source": [
    "# range()函数\n",
    "a=range(5)\n",
    "b=range(2,5)\n",
    "c=range(0,5,2)\n",
    "type(a),list(a),list(b),list(c)"
   ]
  },
  {
   "cell_type": "code",
   "execution_count": null,
   "metadata": {},
   "outputs": [],
   "source": [
    "#枚举位置函数\n",
    "A=enumerate([\"a\", \"b\", \"c\"])\n",
    "list(A)"
   ]
  },
  {
   "cell_type": "code",
   "execution_count": null,
   "metadata": {},
   "outputs": [],
   "source": [
    "#拉链函数\n",
    "gdp= [9.607, 10.48, 11.06]\n",
    "year = [2013, 2014, 2015]\n",
    "z = zip(year, gdp)\n",
    "z,type(z),list(z)   #z是一个类class\n",
    "z=list(zip(gdp,year))\n",
    "x,y=z[0]\n",
    "x,y"
   ]
  },
  {
   "cell_type": "markdown",
   "metadata": {},
   "source": [
    "## 1.3 Control flow(条件与循环）"
   ]
  },
  {
   "cell_type": "code",
   "execution_count": 45,
   "metadata": {},
   "outputs": [
    {
     "name": "stdout",
     "output_type": "stream",
     "text": [
      "t=3\n"
     ]
    }
   ],
   "source": [
    "#条件语句\n",
    "t=3\n",
    "if t<3:\n",
    "    print('t<3')\n",
    "elif t==3:               #注意中间的条件语句为elif,最后为else\n",
    "    print('t=3')\n",
    "else:\n",
    "    print('t>3')"
   ]
  },
  {
   "cell_type": "code",
   "execution_count": 9,
   "metadata": {},
   "outputs": [
    {
     "name": "stdout",
     "output_type": "stream",
     "text": [
      "4\n",
      "5\n",
      "6\n",
      "7\n",
      "8\n",
      "9\n",
      "10\n"
     ]
    }
   ],
   "source": [
    "#while循环语句\n",
    "a=3\n",
    "while a<10:\n",
    "    a=a+1\n",
    "    print(a)"
   ]
  },
  {
   "cell_type": "code",
   "execution_count": 16,
   "metadata": {},
   "outputs": [
    {
     "name": "stdout",
     "output_type": "stream",
     "text": [
      "0\n",
      "1\n",
      "2\n",
      "3\n",
      "4\n"
     ]
    }
   ],
   "source": [
    "#for 循环\n",
    "for i in range(5):\n",
    "    print(i)"
   ]
  },
  {
   "cell_type": "code",
   "execution_count": 17,
   "metadata": {},
   "outputs": [
    {
     "data": {
      "text/plain": [
       "[0, 9, 36]"
      ]
     },
     "execution_count": 17,
     "metadata": {},
     "output_type": "execute_result"
    }
   ],
   "source": [
    "[i**2 for i in range(0,9,3)]"
   ]
  },
  {
   "cell_type": "code",
   "execution_count": 8,
   "metadata": {},
   "outputs": [
    {
     "name": "stdout",
     "output_type": "stream",
     "text": [
      "武汉是湖北的省会\n",
      "杭州是浙江的省会\n",
      "广州是广东的省会\n"
     ]
    }
   ],
   "source": [
    "cities = [\"武汉\", \"杭州\", \"广州\"]\n",
    "states = [\"湖北\", \"浙江\", \"广东\"]\n",
    "for index, city in enumerate(cities):\n",
    "    state = states[index]\n",
    "    print(f\"{city}是{state}的省会\")"
   ]
  },
  {
   "cell_type": "code",
   "execution_count": 11,
   "metadata": {},
   "outputs": [
    {
     "name": "stdout",
     "output_type": "stream",
     "text": [
      "n= 45\n"
     ]
    }
   ],
   "source": [
    "#求1+2+...+n<1000中的n是多少\n",
    "total = 0\n",
    "for n in range(1001):\n",
    "    total += n\n",
    "    if total > 1000:\n",
    "        break        #当条件满足时，跳出循环\n",
    "\n",
    "print(\"n=\", n)"
   ]
  },
  {
   "cell_type": "code",
   "execution_count": 12,
   "metadata": {},
   "outputs": [
    {
     "name": "stdout",
     "output_type": "stream",
     "text": [
      "1\n",
      "3\n",
      "5\n",
      "7\n",
      "9\n"
     ]
    }
   ],
   "source": [
    "#列出奇数\n",
    "for i in range(10):\n",
    "    if i % 2 == 0:  \n",
    "        continue  #武当时i=0,满足条件，遇到continue时不继续往下运行，而是返回循环，此时i=1,不满足条件，于是输出1\n",
    "    print(i)"
   ]
  },
  {
   "cell_type": "code",
   "execution_count": 156,
   "metadata": {},
   "outputs": [
    {
     "data": {
      "text/plain": [
       "{'AAPL': 175.96, 'GOOGL': 1047.43, 'TVIX': 8.38}"
      ]
     },
     "execution_count": 156,
     "metadata": {},
     "output_type": "execute_result"
    }
   ],
   "source": [
    "#利用两个list构造一个字典\n",
    "tickers = [\"AAPL\", \"GOOGL\", \"TVIX\"]\n",
    "prices = [175.96, 1047.43, 8.38]\n",
    "d = {key: value for key, value in zip(tickers, prices)}\n",
    "d"
   ]
  },
  {
   "cell_type": "code",
   "execution_count": 158,
   "metadata": {},
   "outputs": [
    {
     "data": {
      "text/plain": [
       "(['Seattle', 'Zurich', 'Cupertino'],\n",
       " dict_values(['Seattle', 'Zurich', 'Cupertino']))"
      ]
     },
     "execution_count": 158,
     "metadata": {},
     "output_type": "execute_result"
    }
   ],
   "source": [
    "# 从字典中提取一个list\n",
    "d = {\"AMZN\": \"Seattle\", \"TVIX\": \"Zurich\", \"AAPL\": \"Cupertino\"}\n",
    "hq_cities = [d[ticker] for ticker in d.keys()]\n",
    "hq_cities,d.values()"
   ]
  },
  {
   "cell_type": "code",
   "execution_count": 159,
   "metadata": {},
   "outputs": [
    {
     "name": "stdout",
     "output_type": "stream",
     "text": [
      "{2013: {'gdp': 9.607, 'exports': {'manufacturing': 2.4, 'agriculture': 1.5, 'services': 0.5}}, 2014: {'gdp': 10.48, 'exports': {'manufacturing': 2.5, 'agriculture': 1.4, 'services': 0.9}}, 2015: {'gdp': 11.06, 'exports': {'manufacturing': 2.7, 'agriculture': 1.4, 'services': 1.5}}}\n"
     ]
    },
    {
     "data": {
      "text/plain": [
       "[0.5, 0.9, 1.5]"
      ]
     },
     "execution_count": 159,
     "metadata": {},
     "output_type": "execute_result"
    }
   ],
   "source": [
    "#嵌套字典\n",
    "gdp_data = [9.607, 10.48, 11.06]\n",
    "years = [2013, 2014, 2015]\n",
    "exports = [ {\"manufacturing\": 2.4, \"agriculture\": 1.5, \"services\": 0.5},\n",
    "            {\"manufacturing\": 2.5, \"agriculture\": 1.4, \"services\": 0.9},\n",
    "            {\"manufacturing\": 2.7, \"agriculture\": 1.4, \"services\": 1.5}]\n",
    "data = zip(years, gdp_data,exports)\n",
    "data_dict = {year : {\"gdp\" : gdp, \"exports\": exports} for year, gdp, exports in data}\n",
    "print(data_dict)\n",
    "\n",
    "# 各年服务业的出口\n",
    "[data_dict[year][\"exports\"][\"services\"] for year in data_dict.keys()]"
   ]
  },
  {
   "cell_type": "code",
   "execution_count": null,
   "metadata": {},
   "outputs": [],
   "source": []
  },
  {
   "cell_type": "markdown",
   "metadata": {},
   "source": [
    "## 1.4 Function(自定义函数）"
   ]
  },
  {
   "cell_type": "markdown",
   "metadata": {},
   "source": [
    "## cobb_douglas （CD）生产函数\n",
    "\n",
    "$$\n",
    "Y = AK^{\\alpha} L^{1-\\alpha}\n",
    "$$\n",
    "\n",
    "其中参数 $ \\alpha \\in [0,1] $, 称为“资本的产出弹性”\n",
    "\n",
    "$ A $ 称为全要素生产率[Total Factor Productivity](https://baike.baidu.com/item/%E5%85%A8%E8%A6%81%E7%B4%A0%E7%94%9F%E4%BA%A7%E7%8E%87/9767325?fr=aladdin) (TFP).  "
   ]
  },
  {
   "cell_type": "code",
   "execution_count": 171,
   "metadata": {},
   "outputs": [
    {
     "data": {
      "text/plain": [
       "(0.6285066872609142, 0.7071067811865476)"
      ]
     },
     "execution_count": 171,
     "metadata": {},
     "output_type": "execute_result"
    }
   ],
   "source": [
    "#cobb_douglas\n",
    "def CD(K, L,alpha=0.33,A=1):\n",
    "    return A * K**(alpha) * L**(1.0 - alpha)\n",
    "CD(1,0.5),CD(1,0.5,0.5)"
   ]
  },
  {
   "cell_type": "markdown",
   "metadata": {},
   "source": [
    "### Multiple Returns\n",
    "\n",
    "资本的边际产出：当某种要素投入略微改变，而其他要素投入保持不变时，产出的变化.\n",
    "\n",
    "如 $ K, L $ ，当劳动投入增加 $ \\epsilon $ 时，劳动的边际产出为 (MPL) \n",
    "$$\n",
    "\\frac{F(K, L + \\varepsilon) - F(K, L)}{\\varepsilon}\n",
    "$$\n",
    "\n",
    "类似可定义资本边际产出（MPK) 为\n",
    "$$\n",
    "\\begin{aligned}\n",
    "MPL(K, L) &= \\frac{\\partial F(K, L)}{\\partial L}\\\\\n",
    "MPK(K, L) &= \\frac{\\partial F(K, L)}{\\partial K}\n",
    "\\end{aligned}\n",
    "$$\n",
    "\n",
    "$$\n",
    "\\begin{aligned}\n",
    "MPK(K, L) &= A \\alpha \\left(\\frac{K}{L} \\right)^{\\alpha - 1}\\\\\n",
    "MPL(K, L) &= (1-\\alpha)A \\left(\\frac{K}{L} \\right)^{\\alpha}\\\\\n",
    "\\end{aligned}\n",
    "$$"
   ]
  },
  {
   "cell_type": "code",
   "execution_count": 166,
   "metadata": {},
   "outputs": [
    {
     "data": {
      "text/plain": [
       "(0.8421711708284096, 0.20740025904131265)"
      ]
     },
     "execution_count": 166,
     "metadata": {},
     "output_type": "execute_result"
    }
   ],
   "source": [
    "# 边际报酬\n",
    "def marginal_products(K, L, epsilon):\n",
    "    mpl = (CD(K, L + epsilon) -CD(K, L)) / epsilon\n",
    "    mpk = (CD(K + epsilon, L) -CD(K, L)) / epsilon\n",
    "    return mpl, mpk\n",
    "marginal_products(1.0, 0.5,  1e-4)"
   ]
  },
  {
   "cell_type": "code",
   "execution_count": 167,
   "metadata": {},
   "outputs": [
    {
     "data": {
      "text/plain": [
       "[(0.8421711708284096, 0.20740025904131265),\n",
       " (1.058620425367085, 0.13035463304111872),\n",
       " (1.2101811517950534, 0.09934539767386674)]"
      ]
     },
     "execution_count": 167,
     "metadata": {},
     "output_type": "execute_result"
    }
   ],
   "source": [
    "#劳动投入不变，资本变动时，资本的边际报酬递减而劳动的边际报酬递增\n",
    "Ks = [1.0, 2.0, 3.0]\n",
    "[marginal_products(K, 0.5, 1e-4) for K in Ks] # create a tuple for each K"
   ]
  },
  {
   "cell_type": "markdown",
   "metadata": {},
   "source": [
    "## 规模报酬\n",
    "\n",
    "规模报酬 *returns to scale*：当所有投入要素均同比例增加$\\gamma$ 倍时，产出会如何变化？\n",
    "设 $ Y_1 = F(K_1,L_1) $ \n",
    "如果所有投入增加 $ \\gamma $倍，则\n",
    "$ K_2 = \\gamma K_1 $ , $ L_2 = \\gamma L_1 $\n",
    "其产出为\n",
    "$$\n",
    "Y_2 = F(K_2, L_2) = F(\\gamma K_1, \\gamma L_1)\n",
    "$$\n",
    "\n",
    " $ Y_1 $ 相对于 $ Y_2 $增加多少倍?\n",
    "\n",
    "任给 $ K, L $,将$ K, L $乘以 $ \\gamma $，若 $ \\frac{Y_2}{Y_1} < \\gamma $ 称生产函数为规模报酬递减.  \n",
    "若 $ \\frac{Y_2}{Y_1} = \\gamma $ 称为规模报酬不变\n",
    "若 $ \\frac{Y_2}{Y_1} > \\gamma $ 称为规模报酬递增 "
   ]
  },
  {
   "cell_type": "code",
   "execution_count": null,
   "metadata": {},
   "outputs": [],
   "source": [
    "#规模报酬不变函数\n",
    "def returns_to_scale(K, L, gamma):\n",
    "    y1 = CD(K, L)\n",
    "    y2 = CD(gamma*K, gamma*L)\n",
    "    y_ratio = y2 / y1\n",
    "    return y_ratio / gamma\n",
    "returns_to_scale(1.0, 0.5, 2.0)"
   ]
  },
  {
   "cell_type": "code",
   "execution_count": 168,
   "metadata": {},
   "outputs": [
    {
     "data": {
      "text/plain": [
       "1.3195079107728944"
      ]
     },
     "execution_count": 168,
     "metadata": {},
     "output_type": "execute_result"
    }
   ],
   "source": [
    "#规模报酬递增\n",
    "#cobb_douglas\n",
    "def CD(K, L,alpha=0.33,beta=0.67):\n",
    "    return K**(alpha) * L**beta\n",
    "def returns_to_scale(K, L, gamma):\n",
    "    y1 = CD(K, L,0.6,0.8)\n",
    "    y2 = CD(gamma*K, gamma*L,0.6,0.8)\n",
    "    y_ratio = y2 / y1\n",
    "    return y_ratio / gamma\n",
    "returns_to_scale(1.0, 0.5, 2.0)"
   ]
  },
  {
   "cell_type": "markdown",
   "metadata": {},
   "source": [
    "# 1.5 Class(类）"
   ]
  },
  {
   "cell_type": "code",
   "execution_count": 15,
   "metadata": {},
   "outputs": [
    {
     "data": {
      "text/plain": [
       "5"
      ]
     },
     "execution_count": 15,
     "metadata": {},
     "output_type": "execute_result"
    }
   ],
   "source": [
    "#消费者：属性，拥有一定量的资产；行为，赚钱，消费\n",
    "class Consumer:\n",
    "    def __init__(self, w):  #消费者的属性，拥有财产\n",
    "        self.wealth = w      \n",
    "    def earn(self, y):      #赚钱\n",
    "        self.wealth += y\n",
    "    def spend(self, x):     #花钱\n",
    "        new_wealth = self.wealth - x\n",
    "        if new_wealth < 0:\n",
    "            print(\"卡刷爆了\")\n",
    "        else:\n",
    "            self.wealth = new_wealth\n",
    "            \n",
    "c1 = Consumer(10) #父母给了一笔钱=10\n",
    "c1.spend(5)\n",
    "c1.wealth"
   ]
  },
  {
   "cell_type": "code",
   "execution_count": 16,
   "metadata": {},
   "outputs": [
    {
     "name": "stdout",
     "output_type": "stream",
     "text": [
      "卡刷爆了\n"
     ]
    }
   ],
   "source": [
    "c1.earn(15)\n",
    "c1.spend(100)"
   ]
  },
  {
   "cell_type": "code",
   "execution_count": 6,
   "metadata": {},
   "outputs": [
    {
     "data": {
      "text/plain": [
       "8"
      ]
     },
     "execution_count": 6,
     "metadata": {},
     "output_type": "execute_result"
    }
   ],
   "source": [
    "c1 = Consumer(10)\n",
    "c2 = Consumer(12)\n",
    "c2.spend(4)\n",
    "c2.wealth"
   ]
  },
  {
   "cell_type": "code",
   "execution_count": 7,
   "metadata": {},
   "outputs": [
    {
     "data": {
      "text/plain": [
       "10"
      ]
     },
     "execution_count": 7,
     "metadata": {},
     "output_type": "execute_result"
    }
   ],
   "source": [
    "c1.wealth"
   ]
  },
  {
   "cell_type": "code",
   "execution_count": 8,
   "metadata": {},
   "outputs": [
    {
     "data": {
      "text/plain": [
       "20"
      ]
     },
     "execution_count": 8,
     "metadata": {},
     "output_type": "execute_result"
    }
   ],
   "source": [
    "c1 = Consumer(10)\n",
    "c1.earn(10)\n",
    "c1.wealth"
   ]
  }
 ],
 "metadata": {
  "kernelspec": {
   "display_name": "Python 3",
   "language": "python",
   "name": "python3"
  },
  "language_info": {
   "codemirror_mode": {
    "name": "ipython",
    "version": 3
   },
   "file_extension": ".py",
   "mimetype": "text/x-python",
   "name": "python",
   "nbconvert_exporter": "python",
   "pygments_lexer": "ipython3",
   "version": "3.7.4"
  }
 },
 "nbformat": 4,
 "nbformat_minor": 2
}
